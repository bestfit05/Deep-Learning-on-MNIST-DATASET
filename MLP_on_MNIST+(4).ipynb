{
 "cells": [
  {
   "cell_type": "markdown",
   "metadata": {
    "colab_type": "text",
    "id": "u2kY-ANbfI3b"
   },
   "source": [
    "##                                                           **ASSIGNMENT 12**"
   ]
  },
  {
   "cell_type": "markdown",
   "metadata": {
    "colab_type": "text",
    "id": "L4YV0YB4elF4"
   },
   "source": [
    "### OBJECTIVE:  **To Build Various MLP architecture for MNIST Dataset**"
   ]
  },
  {
   "cell_type": "code",
   "execution_count": 0,
   "metadata": {
    "colab": {},
    "colab_type": "code",
    "collapsed": true,
    "id": "p2RftApkgfAm"
   },
   "outputs": [],
   "source": [
    "from keras.utils import np_utils \n",
    "from keras.datasets import mnist \n",
    "import seaborn as sns\n",
    "from keras.initializers import RandomNormal\n",
    "from keras.layers import Dropout\n",
    "from keras.layers.normalization import BatchNormalization\n",
    "from keras.models import Sequential \n",
    "from keras.layers import Dense, Activation \n",
    "from keras.initializers import he_normal\n"
   ]
  },
  {
   "cell_type": "code",
   "execution_count": 0,
   "metadata": {
    "colab": {
     "base_uri": "https://localhost:8080/",
     "height": 54
    },
    "colab_type": "code",
    "id": "urUr_kk7gkX8",
    "outputId": "fe6ebfdd-7577-454e-dad0-0e50db297f35"
   },
   "outputs": [
    {
     "name": "stdout",
     "output_type": "stream",
     "text": [
      "Downloading data from https://s3.amazonaws.com/img-datasets/mnist.npz\n",
      "11493376/11490434 [==============================] - 0s 0us/step\n"
     ]
    }
   ],
   "source": [
    "# loading both training and testing Dataset\n",
    "(X_train , y_train) , (X_test , y_test) = mnist.load_data()"
   ]
  },
  {
   "cell_type": "code",
   "execution_count": 0,
   "metadata": {
    "colab": {
     "base_uri": "https://localhost:8080/",
     "height": 35
    },
    "colab_type": "code",
    "id": "ySQS-Fq-hT2P",
    "outputId": "66cf451c-1ca1-4e64-df9c-3e66aa3a32f1"
   },
   "outputs": [
    {
     "data": {
      "text/plain": [
       "(60000, 28, 28)"
      ]
     },
     "execution_count": 3,
     "metadata": {
      "tags": []
     },
     "output_type": "execute_result"
    }
   ],
   "source": [
    "X_train.shape                "
   ]
  },
  {
   "cell_type": "code",
   "execution_count": 0,
   "metadata": {
    "colab": {
     "base_uri": "https://localhost:8080/",
     "height": 54
    },
    "colab_type": "code",
    "id": "hWYBCrZ6gwfs",
    "outputId": "2b30ef83-1d11-47a8-c8da-09a4dd84b96a"
   },
   "outputs": [
    {
     "name": "stdout",
     "output_type": "stream",
     "text": [
      "Number of training points: 60000  and each image is 28 X 28 pixel\n",
      "Number of training points: 10000  and each image is 28 X 28 pixel\n"
     ]
    }
   ],
   "source": [
    "print('Number of training points: {}'.format(X_train.shape[0]),' and each image is {} X {} pixel'.format(X_train.shape[1] , X_train.shape[2]))\n",
    "print('Number of training points: {}'.format(X_test.shape[0]),' and each image is {} X {} pixel'.format(X_test.shape[1] , X_test.shape[2]))"
   ]
  },
  {
   "cell_type": "code",
   "execution_count": 0,
   "metadata": {
    "colab": {},
    "colab_type": "code",
    "collapsed": true,
    "id": "OGANQ4Sng7e9"
   },
   "outputs": [],
   "source": [
    "# for each image we have a (28*28) vector\n",
    "# we will convert the (28*28) vector into single dimensional vector of 1 * 784 \n",
    "\n",
    "X_train = X_train.reshape(X_train.shape[0], X_train.shape[1]*X_train.shape[2]) \n",
    "X_test = X_test.reshape(X_test.shape[0], X_test.shape[1]*X_test.shape[2]) "
   ]
  },
  {
   "cell_type": "code",
   "execution_count": 0,
   "metadata": {
    "colab": {
     "base_uri": "https://localhost:8080/",
     "height": 54
    },
    "colab_type": "code",
    "id": "ezfE_Rdlj2O4",
    "outputId": "d46d3cd5-0b1e-4866-d0a8-7324ca3c9f42"
   },
   "outputs": [
    {
     "name": "stdout",
     "output_type": "stream",
     "text": [
      "Number of training examples : 60000 and each image is of shape (784)\n",
      "Number of training examples : 10000 and each image is of shape (784)\n"
     ]
    }
   ],
   "source": [
    "# after converting the input images from 3d to 2d vectors\n",
    "\n",
    "print(\"Number of training examples :\", X_train.shape[0], \"and each image is of shape (%d)\"%(X_train.shape[1]))\n",
    "print(\"Number of training examples :\", X_test.shape[0], \"and each image is of shape (%d)\"%(X_test.shape[1]))"
   ]
  },
  {
   "cell_type": "code",
   "execution_count": 0,
   "metadata": {
    "colab": {
     "base_uri": "https://localhost:8080/",
     "height": 35
    },
    "colab_type": "code",
    "id": "k6vJXr7ckEq-",
    "outputId": "241228d7-ca7d-4504-c04c-1115b20c015a"
   },
   "outputs": [
    {
     "name": "stdout",
     "output_type": "stream",
     "text": [
      "<class 'numpy.ndarray'>\n"
     ]
    }
   ],
   "source": [
    "\n",
    "print(type(X_train[0]))\n"
   ]
  },
  {
   "cell_type": "code",
   "execution_count": 0,
   "metadata": {
    "colab": {},
    "colab_type": "code",
    "collapsed": true,
    "id": "cR1L7JE5kUU7"
   },
   "outputs": [],
   "source": [
    "# normalizing\n",
    "X_train = X_train/255\n",
    "X_test = X_test/255"
   ]
  },
  {
   "cell_type": "code",
   "execution_count": 0,
   "metadata": {
    "colab": {
     "base_uri": "https://localhost:8080/",
     "height": 54
    },
    "colab_type": "code",
    "id": "7DsGU5w5kmgU",
    "outputId": "0485e149-93ec-4dd7-c2fc-3e4fd6ba9b62"
   },
   "outputs": [
    {
     "name": "stdout",
     "output_type": "stream",
     "text": [
      "Class label of first image : 5\n",
      "After converting the output into a vector :  [0. 0. 0. 0. 0. 1. 0. 0. 0. 0.]\n"
     ]
    }
   ],
   "source": [
    "# here we are having a class number for each image\n",
    "print(\"Class label of first image :\", y_train[0])\n",
    "\n",
    "# lets convert this into a 10 dimensional vector\n",
    "# ex: consider an image is 5 convert it into 5 => [0, 0, 0, 0, 0, 1, 0, 0, 0, 0]\n",
    "# this conversion needed for MLPs \n",
    "\n",
    "Y_train = np_utils.to_categorical(y_train, 10)           # one hot encoding \n",
    "Y_test = np_utils.to_categorical(y_test, 10)\n",
    "\n",
    "print(\"After converting the output into a vector : \",Y_train[0])"
   ]
  },
  {
   "cell_type": "code",
   "execution_count": 0,
   "metadata": {
    "colab": {},
    "colab_type": "code",
    "collapsed": true,
    "id": "YPtT4OY1k6WW"
   },
   "outputs": [],
   "source": [
    "\n",
    "import matplotlib.pyplot as plt\n",
    "import numpy as np\n",
    "import time\n",
    "# https://gist.github.com/greydanus/f6eee59eaf1d90fcb3b534a25362cea4\n",
    "# https://stackoverflow.com/a/14434334\n",
    "# this function is used to update the plots for each epoch and error\n",
    "def plt_dynamic(x, vy, ty, ax, colors=['b']):\n",
    "    ax.plot(x, vy, 'b', label=\"Validation Loss\")\n",
    "    ax.plot(x, ty, 'r', label=\"Train Loss\")\n",
    "    plt.legend()\n",
    "    plt.grid()\n",
    "    fig.canvas.draw()"
   ]
  },
  {
   "cell_type": "markdown",
   "metadata": {
    "colab_type": "text",
    "id": "df2dEOtPnV8k"
   },
   "source": [
    "## SOFTMAX CLASSIFIER with 2 hidden layers"
   ]
  },
  {
   "cell_type": "code",
   "execution_count": 0,
   "metadata": {
    "colab": {
     "base_uri": "https://localhost:8080/",
     "height": 1181
    },
    "colab_type": "code",
    "id": "uTrMl3sblXcd",
    "outputId": "325ca144-28ce-4e0e-8d60-83a39a3b5410"
   },
   "outputs": [
    {
     "name": "stdout",
     "output_type": "stream",
     "text": [
      "_________________________________________________________________\n",
      "Layer (type)                 Output Shape              Param #   \n",
      "=================================================================\n",
      "dense_4 (Dense)              (None, 364)               285740    \n",
      "_________________________________________________________________\n",
      "batch_normalization_3 (Batch (None, 364)               1456      \n",
      "_________________________________________________________________\n",
      "dropout_3 (Dropout)          (None, 364)               0         \n",
      "_________________________________________________________________\n",
      "dense_5 (Dense)              (None, 52)                18980     \n",
      "_________________________________________________________________\n",
      "batch_normalization_4 (Batch (None, 52)                208       \n",
      "_________________________________________________________________\n",
      "dropout_4 (Dropout)          (None, 52)                0         \n",
      "_________________________________________________________________\n",
      "dense_6 (Dense)              (None, 10)                530       \n",
      "=================================================================\n",
      "Total params: 306,914\n",
      "Trainable params: 306,082\n",
      "Non-trainable params: 832\n",
      "_________________________________________________________________\n",
      "Model Summary :- \n",
      " None\n",
      "Train on 60000 samples, validate on 10000 samples\n",
      "Epoch 1/20\n",
      "60000/60000 [==============================] - 6s 100us/step - loss: 0.3387 - acc: 0.9021 - val_loss: 0.1245 - val_acc: 0.9621\n",
      "Epoch 2/20\n",
      "60000/60000 [==============================] - 5s 89us/step - loss: 0.1513 - acc: 0.9552 - val_loss: 0.1039 - val_acc: 0.9674\n",
      "Epoch 3/20\n",
      "60000/60000 [==============================] - 5s 90us/step - loss: 0.1128 - acc: 0.9653 - val_loss: 0.0836 - val_acc: 0.9744\n",
      "Epoch 4/20\n",
      "60000/60000 [==============================] - 5s 89us/step - loss: 0.0917 - acc: 0.9719 - val_loss: 0.0685 - val_acc: 0.9786\n",
      "Epoch 5/20\n",
      "60000/60000 [==============================] - 5s 89us/step - loss: 0.0806 - acc: 0.9748 - val_loss: 0.0717 - val_acc: 0.9778\n",
      "Epoch 6/20\n",
      "60000/60000 [==============================] - 5s 89us/step - loss: 0.0680 - acc: 0.9784 - val_loss: 0.0699 - val_acc: 0.9789\n",
      "Epoch 7/20\n",
      "60000/60000 [==============================] - 5s 90us/step - loss: 0.0629 - acc: 0.9802 - val_loss: 0.0703 - val_acc: 0.9790\n",
      "Epoch 8/20\n",
      "60000/60000 [==============================] - 6s 92us/step - loss: 0.0565 - acc: 0.9819 - val_loss: 0.0649 - val_acc: 0.9812\n",
      "Epoch 9/20\n",
      "60000/60000 [==============================] - 6s 93us/step - loss: 0.0512 - acc: 0.9839 - val_loss: 0.0610 - val_acc: 0.9827\n",
      "Epoch 10/20\n",
      "60000/60000 [==============================] - 5s 91us/step - loss: 0.0485 - acc: 0.9847 - val_loss: 0.0623 - val_acc: 0.9809\n",
      "Epoch 11/20\n",
      "60000/60000 [==============================] - 5s 90us/step - loss: 0.0445 - acc: 0.9856 - val_loss: 0.0597 - val_acc: 0.9816\n",
      "Epoch 12/20\n",
      "60000/60000 [==============================] - 5s 90us/step - loss: 0.0409 - acc: 0.9871 - val_loss: 0.0635 - val_acc: 0.9807\n",
      "Epoch 13/20\n",
      "60000/60000 [==============================] - 5s 91us/step - loss: 0.0410 - acc: 0.9869 - val_loss: 0.0674 - val_acc: 0.9804\n",
      "Epoch 14/20\n",
      "60000/60000 [==============================] - 5s 91us/step - loss: 0.0409 - acc: 0.9870 - val_loss: 0.0579 - val_acc: 0.9817\n",
      "Epoch 15/20\n",
      "60000/60000 [==============================] - 5s 89us/step - loss: 0.0358 - acc: 0.9880 - val_loss: 0.0658 - val_acc: 0.9806\n",
      "Epoch 16/20\n",
      "60000/60000 [==============================] - 5s 91us/step - loss: 0.0337 - acc: 0.9885 - val_loss: 0.0615 - val_acc: 0.9831\n",
      "Epoch 17/20\n",
      "60000/60000 [==============================] - 5s 89us/step - loss: 0.0314 - acc: 0.9898 - val_loss: 0.0603 - val_acc: 0.9818\n",
      "Epoch 18/20\n",
      "60000/60000 [==============================] - 5s 89us/step - loss: 0.0320 - acc: 0.9896 - val_loss: 0.0604 - val_acc: 0.9829\n",
      "Epoch 19/20\n",
      "60000/60000 [==============================] - 5s 89us/step - loss: 0.0311 - acc: 0.9900 - val_loss: 0.0605 - val_acc: 0.9823\n",
      "Epoch 20/20\n",
      "60000/60000 [==============================] - 5s 90us/step - loss: 0.0273 - acc: 0.9913 - val_loss: 0.0652 - val_acc: 0.9811\n"
     ]
    }
   ],
   "source": [
    "# model parameters\n",
    "output_dim = 10\n",
    "input_dim = X_train.shape[1]  \n",
    "\n",
    "batch_size = 128 \n",
    "nb_epoch = 20\n",
    "\n",
    "# start building a model\n",
    "model_2_layers = Sequential()\n",
    "\n",
    "\n",
    "model_2_layers.add(Dense(364, activation='relu', input_shape=(input_dim,), kernel_initializer=he_normal(seed = None))) #seed ->A Python integer. Used to seed the random generator\n",
    "model_2_layers.add(BatchNormalization())            # batch normalization\n",
    "model_2_layers.add(Dropout(0.25))                    #dropout\n",
    "\n",
    "\n",
    "model_2_layers.add(Dense(52, activation='relu', kernel_initializer=he_normal(seed = None)))\n",
    "model_2_layers.add(BatchNormalization())\n",
    "model_2_layers.add(Dropout(0.25))\n",
    "\n",
    "model_2_layers.add(Dense(output_dim, activation='softmax'))\n",
    "\n",
    "# model Summary\n",
    "print(\"Model Summary :- \\n\",model_2_layers.summary())\n",
    "\n",
    "# Compiling the model\n",
    "model_2_layers.compile(optimizer='adam', loss='categorical_crossentropy', metrics=['accuracy'])\n",
    "\n",
    "#training model\n",
    "history_2_layers = model_2_layers.fit(X_train, Y_train, batch_size=batch_size, epochs=nb_epoch, verbose=1, validation_data=(X_test, Y_test))\n"
   ]
  },
  {
   "cell_type": "code",
   "execution_count": 0,
   "metadata": {
    "colab": {
     "base_uri": "https://localhost:8080/",
     "height": 397
    },
    "colab_type": "code",
    "id": "Hulaz1OHsNd1",
    "outputId": "57cffb62-4e61-4a89-b62e-08627edc4ae1"
   },
   "outputs": [
    {
     "name": "stdout",
     "output_type": "stream",
     "text": [
      "Test score: 0.06521892226291966\n",
      "Test accuracy: 0.9811\n"
     ]
    },
    {
     "data": {
      "image/png": "[encoded data removed]",
      "text/plain": [
       "<Figure size 576x396 with 1 Axes>"
      ]
     },
     "metadata": {
      "tags": []
     },
     "output_type": "display_data"
    }
   ],
   "source": [
    "score = model_2_layers.evaluate(X_test, Y_test, verbose=0) \n",
    "print('Test score:', score[0]) \n",
    "print('Test accuracy:', score[1])\n",
    "\n",
    "fig,ax = plt.subplots(1,1)\n",
    "ax.set_xlabel('epoch') ; ax.set_ylabel('Categorical Crossentropy Loss')\n",
    "\n",
    "\n",
    "# list of epoch numbers\n",
    "x = list(range(1,nb_epoch+1))\n",
    "\n",
    "\n",
    "vy = history_2_layers.history['val_loss']  # validation loss\n",
    "ty = history_2_layers.history['loss']      # train loss\n",
    "plt_dynamic(x, vy, ty,ax)\n"
   ]
  },
  {
   "cell_type": "markdown",
   "metadata": {
    "colab_type": "text",
    "id": "EO0FB0pSzkav"
   },
   "source": [
    "**3 hidden layers**"
   ]
  },
  {
   "cell_type": "code",
   "execution_count": 0,
   "metadata": {
    "colab": {
     "base_uri": "https://localhost:8080/",
     "height": 1345
    },
    "colab_type": "code",
    "id": "K0sYF9nqzwH2",
    "outputId": "0dfc608a-543c-457d-c72e-9962c2630cb2"
   },
   "outputs": [
    {
     "name": "stdout",
     "output_type": "stream",
     "text": [
      "_________________________________________________________________\n",
      "Layer (type)                 Output Shape              Param #   \n",
      "=================================================================\n",
      "dense_37 (Dense)             (None, 400)               314000    \n",
      "_________________________________________________________________\n",
      "batch_normalization_21 (Batc (None, 400)               1600      \n",
      "_________________________________________________________________\n",
      "dropout_28 (Dropout)         (None, 400)               0         \n",
      "_________________________________________________________________\n",
      "dense_38 (Dense)             (None, 300)               120300    \n",
      "_________________________________________________________________\n",
      "batch_normalization_22 (Batc (None, 300)               1200      \n",
      "_________________________________________________________________\n",
      "dropout_29 (Dropout)         (None, 300)               0         \n",
      "_________________________________________________________________\n",
      "dense_39 (Dense)             (None, 100)               30100     \n",
      "_________________________________________________________________\n",
      "batch_normalization_23 (Batc (None, 100)               400       \n",
      "_________________________________________________________________\n",
      "dropout_30 (Dropout)         (None, 100)               0         \n",
      "_________________________________________________________________\n",
      "dense_40 (Dense)             (None, 10)                1010      \n",
      "=================================================================\n",
      "Total params: 468,610\n",
      "Trainable params: 467,010\n",
      "Non-trainable params: 1,600\n",
      "_________________________________________________________________\n",
      "Model Summary :- \n",
      " None\n",
      "Train on 60000 samples, validate on 10000 samples\n",
      "Epoch 1/20\n",
      "60000/60000 [==============================] - 11s 177us/step - loss: 0.6104 - acc: 0.8148 - val_loss: 0.1748 - val_acc: 0.9454\n",
      "Epoch 2/20\n",
      "60000/60000 [==============================] - 9s 144us/step - loss: 0.2658 - acc: 0.9213 - val_loss: 0.1264 - val_acc: 0.9586\n",
      "Epoch 3/20\n",
      "60000/60000 [==============================] - 9s 145us/step - loss: 0.2056 - acc: 0.9401 - val_loss: 0.1081 - val_acc: 0.9662\n",
      "Epoch 4/20\n",
      "60000/60000 [==============================] - 9s 146us/step - loss: 0.1718 - acc: 0.9491 - val_loss: 0.0956 - val_acc: 0.9687\n",
      "Epoch 5/20\n",
      "60000/60000 [==============================] - 9s 147us/step - loss: 0.1489 - acc: 0.9567 - val_loss: 0.0871 - val_acc: 0.9735\n",
      "Epoch 6/20\n",
      "60000/60000 [==============================] - 9s 146us/step - loss: 0.1403 - acc: 0.9588 - val_loss: 0.0813 - val_acc: 0.9748\n",
      "Epoch 7/20\n",
      "60000/60000 [==============================] - 9s 145us/step - loss: 0.1310 - acc: 0.9613 - val_loss: 0.0703 - val_acc: 0.9781\n",
      "Epoch 8/20\n",
      "60000/60000 [==============================] - 9s 147us/step - loss: 0.1169 - acc: 0.9653 - val_loss: 0.0747 - val_acc: 0.9778\n",
      "Epoch 9/20\n",
      "60000/60000 [==============================] - 9s 147us/step - loss: 0.1114 - acc: 0.9670 - val_loss: 0.0764 - val_acc: 0.9772\n",
      "Epoch 10/20\n",
      "60000/60000 [==============================] - 9s 146us/step - loss: 0.1043 - acc: 0.9690 - val_loss: 0.0714 - val_acc: 0.9787\n",
      "Epoch 11/20\n",
      "60000/60000 [==============================] - 9s 144us/step - loss: 0.0989 - acc: 0.9704 - val_loss: 0.0674 - val_acc: 0.9800\n",
      "Epoch 12/20\n",
      "60000/60000 [==============================] - 9s 147us/step - loss: 0.0919 - acc: 0.9731 - val_loss: 0.0657 - val_acc: 0.9804\n",
      "Epoch 13/20\n",
      "60000/60000 [==============================] - 9s 146us/step - loss: 0.0921 - acc: 0.9729 - val_loss: 0.0628 - val_acc: 0.9803\n",
      "Epoch 14/20\n",
      "60000/60000 [==============================] - 9s 147us/step - loss: 0.0857 - acc: 0.9748 - val_loss: 0.0661 - val_acc: 0.9813\n",
      "Epoch 15/20\n",
      "60000/60000 [==============================] - 9s 147us/step - loss: 0.0838 - acc: 0.9746 - val_loss: 0.0565 - val_acc: 0.9832\n",
      "Epoch 16/20\n",
      "60000/60000 [==============================] - 9s 147us/step - loss: 0.0828 - acc: 0.9762 - val_loss: 0.0583 - val_acc: 0.9819\n",
      "Epoch 17/20\n",
      "60000/60000 [==============================] - 9s 147us/step - loss: 0.0747 - acc: 0.9774 - val_loss: 0.0638 - val_acc: 0.9811\n",
      "Epoch 18/20\n",
      "60000/60000 [==============================] - 9s 144us/step - loss: 0.0742 - acc: 0.9778 - val_loss: 0.0628 - val_acc: 0.9821\n",
      "Epoch 19/20\n",
      "60000/60000 [==============================] - 9s 146us/step - loss: 0.0718 - acc: 0.9784 - val_loss: 0.0587 - val_acc: 0.9823\n",
      "Epoch 20/20\n",
      "60000/60000 [==============================] - 9s 149us/step - loss: 0.0682 - acc: 0.9791 - val_loss: 0.0608 - val_acc: 0.9821\n",
      "10000/10000 [==============================] - 1s 84us/step\n",
      "Test loss: 0.060828073866979686\n",
      "Test accuracy: 0.9821\n"
     ]
    }
   ],
   "source": [
    "# start building a model\n",
    "model_3_layers = Sequential()\n",
    "\n",
    "\n",
    "model_3_layers.add(Dense(400, activation='relu', input_shape=(input_dim,), kernel_initializer=he_normal()))\n",
    "model_3_layers.add(BatchNormalization())\n",
    "model_3_layers.add(Dropout(0.5))                    #dropout\n",
    "\n",
    "model_3_layers.add(Dense(300, activation='relu', kernel_initializer=he_normal()))\n",
    "model_3_layers.add(BatchNormalization())\n",
    "model_3_layers.add(Dropout(0.5))\n",
    "\n",
    "model_3_layers.add(Dense(100, activation='relu', kernel_initializer=he_normal()))\n",
    "model_3_layers.add(BatchNormalization())\n",
    "model_3_layers.add(Dropout(0.5))\n",
    "\n",
    "model_3_layers.add(Dense(output_dim, activation='softmax'))\n",
    "\n",
    "# model Summary\n",
    "print(\"Model Summary :- \\n\",model_3_layers.summary())\n",
    "\n",
    "# Compiling the model\n",
    "model_3_layers.compile(optimizer='adam', loss='categorical_crossentropy', metrics=['accuracy'])\n",
    "\n",
    "#training model\n",
    "history_3_layers = model_3_layers.fit(X_train, Y_train, batch_size=batch_size, epochs=nb_epoch, verbose=1, validation_data=(X_test, Y_test))\n",
    "\n",
    "score = model_3_layers.evaluate(X_test, Y_test)\n",
    "print('Test loss:', score[0])\n",
    "print('Test accuracy:', score[1])\n"
   ]
  },
  {
   "cell_type": "code",
   "execution_count": 0,
   "metadata": {
    "colab": {
     "base_uri": "https://localhost:8080/",
     "height": 361
    },
    "colab_type": "code",
    "id": "KqKBy2TL03oW",
    "outputId": "0d385dc1-fb11-4aff-c954-6a0a9d771e05"
   },
   "outputs": [
    {
     "data": {
      "image/png": "[encoded data removed]",
      "text/plain": [
       "<Figure size 576x396 with 1 Axes>"
      ]
     },
     "metadata": {
      "tags": []
     },
     "output_type": "display_data"
    }
   ],
   "source": [
    "\n",
    "fig,ax = plt.subplots(1,1)\n",
    "ax.set_xlabel('epoch') ; ax.set_ylabel('Categorical Crossentropy Loss')\n",
    "\n",
    "x = list(range(1,nb_epoch+1))\n",
    "\n",
    "\n",
    "vy = history_3_layers.history['val_loss']  # validation loss\n",
    "ty = history_3_layers.history['loss']      # train loss\n",
    "plt_dynamic(x, vy, ty,ax)"
   ]
  },
  {
   "cell_type": "markdown",
   "metadata": {
    "colab_type": "text",
    "id": "4UzLlNgl1CCy"
   },
   "source": [
    "**5 Hidden Layers**"
   ]
  },
  {
   "cell_type": "code",
   "execution_count": 0,
   "metadata": {
    "colab": {
     "base_uri": "https://localhost:8080/",
     "height": 1490
    },
    "colab_type": "code",
    "id": "h1jxK5RP1GSx",
    "outputId": "8dc9c2ae-3428-44c0-bdd5-52e79dab533d"
   },
   "outputs": [
    {
     "name": "stdout",
     "output_type": "stream",
     "text": [
      "_________________________________________________________________\n",
      "Layer (type)                 Output Shape              Param #   \n",
      "=================================================================\n",
      "dense_53 (Dense)             (None, 512)               401920    \n",
      "_________________________________________________________________\n",
      "dropout_41 (Dropout)         (None, 512)               0         \n",
      "_________________________________________________________________\n",
      "dense_54 (Dense)             (None, 256)               131328    \n",
      "_________________________________________________________________\n",
      "dropout_42 (Dropout)         (None, 256)               0         \n",
      "_________________________________________________________________\n",
      "batch_normalization_28 (Batc (None, 256)               1024      \n",
      "_________________________________________________________________\n",
      "dense_55 (Dense)             (None, 128)               32896     \n",
      "_________________________________________________________________\n",
      "dropout_43 (Dropout)         (None, 128)               0         \n",
      "_________________________________________________________________\n",
      "dense_56 (Dense)             (None, 64)                8256      \n",
      "_________________________________________________________________\n",
      "dropout_44 (Dropout)         (None, 64)                0         \n",
      "_________________________________________________________________\n",
      "batch_normalization_29 (Batc (None, 64)                256       \n",
      "_________________________________________________________________\n",
      "dense_57 (Dense)             (None, 32)                2080      \n",
      "_________________________________________________________________\n",
      "dropout_45 (Dropout)         (None, 32)                0         \n",
      "_________________________________________________________________\n",
      "batch_normalization_30 (Batc (None, 32)                128       \n",
      "_________________________________________________________________\n",
      "dense_58 (Dense)             (None, 10)                330       \n",
      "=================================================================\n",
      "Total params: 578,218\n",
      "Trainable params: 577,514\n",
      "Non-trainable params: 704\n",
      "_________________________________________________________________\n",
      "Model Summary :- \n",
      " None\n",
      "Train on 60000 samples, validate on 10000 samples\n",
      "Epoch 1/20\n",
      "60000/60000 [==============================] - 13s 209us/step - loss: 0.7485 - acc: 0.7832 - val_loss: 0.1703 - val_acc: 0.9512\n",
      "Epoch 2/20\n",
      "60000/60000 [==============================] - 10s 162us/step - loss: 0.2655 - acc: 0.9332 - val_loss: 0.1241 - val_acc: 0.9645\n",
      "Epoch 3/20\n",
      "60000/60000 [==============================] - 10s 165us/step - loss: 0.1964 - acc: 0.9526 - val_loss: 0.1000 - val_acc: 0.9731\n",
      "Epoch 4/20\n",
      "60000/60000 [==============================] - 10s 165us/step - loss: 0.1590 - acc: 0.9621 - val_loss: 0.0953 - val_acc: 0.9751\n",
      "Epoch 5/20\n",
      "60000/60000 [==============================] - 10s 167us/step - loss: 0.1342 - acc: 0.9674 - val_loss: 0.1017 - val_acc: 0.9731\n",
      "Epoch 6/20\n",
      "60000/60000 [==============================] - 10s 165us/step - loss: 0.1195 - acc: 0.9713 - val_loss: 0.0831 - val_acc: 0.9773\n",
      "Epoch 7/20\n",
      "60000/60000 [==============================] - 10s 162us/step - loss: 0.1085 - acc: 0.9738 - val_loss: 0.0836 - val_acc: 0.9782\n",
      "Epoch 8/20\n",
      "60000/60000 [==============================] - 10s 163us/step - loss: 0.0981 - acc: 0.9767 - val_loss: 0.0830 - val_acc: 0.9781\n",
      "Epoch 9/20\n",
      "60000/60000 [==============================] - 10s 161us/step - loss: 0.0929 - acc: 0.9782 - val_loss: 0.0744 - val_acc: 0.9809\n",
      "Epoch 10/20\n",
      "60000/60000 [==============================] - 10s 161us/step - loss: 0.0820 - acc: 0.9798 - val_loss: 0.0742 - val_acc: 0.9819\n",
      "Epoch 11/20\n",
      "60000/60000 [==============================] - 10s 164us/step - loss: 0.0763 - acc: 0.9814 - val_loss: 0.0824 - val_acc: 0.9809\n",
      "Epoch 12/20\n",
      "60000/60000 [==============================] - 10s 168us/step - loss: 0.0727 - acc: 0.9828 - val_loss: 0.0782 - val_acc: 0.9814\n",
      "Epoch 13/20\n",
      "60000/60000 [==============================] - 10s 165us/step - loss: 0.0674 - acc: 0.9836 - val_loss: 0.0685 - val_acc: 0.9835\n",
      "Epoch 14/20\n",
      "60000/60000 [==============================] - 10s 165us/step - loss: 0.0638 - acc: 0.9850 - val_loss: 0.0653 - val_acc: 0.9838\n",
      "Epoch 15/20\n",
      "60000/60000 [==============================] - 10s 167us/step - loss: 0.0587 - acc: 0.9857 - val_loss: 0.0719 - val_acc: 0.9823\n",
      "Epoch 16/20\n",
      "60000/60000 [==============================] - 10s 166us/step - loss: 0.0559 - acc: 0.9867 - val_loss: 0.0731 - val_acc: 0.9824\n",
      "Epoch 17/20\n",
      "60000/60000 [==============================] - 10s 164us/step - loss: 0.0557 - acc: 0.9866 - val_loss: 0.0741 - val_acc: 0.9836\n",
      "Epoch 18/20\n",
      "60000/60000 [==============================] - 10s 163us/step - loss: 0.0530 - acc: 0.9871 - val_loss: 0.0724 - val_acc: 0.9834\n",
      "Epoch 19/20\n",
      "60000/60000 [==============================] - 10s 164us/step - loss: 0.0508 - acc: 0.9873 - val_loss: 0.0640 - val_acc: 0.9848\n",
      "Epoch 20/20\n",
      "60000/60000 [==============================] - 10s 165us/step - loss: 0.0478 - acc: 0.9885 - val_loss: 0.0759 - val_acc: 0.9822\n",
      "10000/10000 [==============================] - 1s 89us/step\n",
      "Test loss: 0.07591400257602218\n",
      "Test accuracy: 0.9822\n"
     ]
    }
   ],
   "source": [
    "from keras.initializers import he_normal \n",
    "model_5_layers = Sequential()\n",
    "\n",
    "model_5_layers.add(Dense(512, activation='relu', input_shape=(input_dim,), kernel_initializer=he_normal(seed = None)))\n",
    "model_5_layers.add(Dropout(0.25))  \n",
    "\n",
    "model_5_layers.add(Dense(256 , activation = 'relu' , kernel_initializer = he_normal(seed = None)))\n",
    "model_5_layers.add(Dropout(0.25))\n",
    "\n",
    "# batch Normalization\n",
    "model_5_layers.add(BatchNormalization())\n",
    "\n",
    "model_5_layers.add(Dense(128 , activation = 'relu' , kernel_initializer = he_normal(seed = None)))\n",
    "model_5_layers.add(Dropout(0.25))\n",
    "\n",
    "model_5_layers.add(Dense(64 , activation = 'relu' , kernel_initializer = he_normal(seed = None)))\n",
    "model_5_layers.add(Dropout(0.25))\n",
    "\n",
    "model_5_layers.add(BatchNormalization())\n",
    "\n",
    "model_5_layers.add(Dense(32 , activation = 'relu' , kernel_initializer = he_normal(seed = None)))\n",
    "model_5_layers.add(Dropout(0.25))\n",
    "\n",
    "model_5_layers.add(BatchNormalization())\n",
    "\n",
    "model_5_layers.add(Dense(output_dim, activation='softmax'))\n",
    "\n",
    "# model Summary\n",
    "print(\"Model Summary :- \\n\",model_5_layers.summary())\n",
    "\n",
    "# Compiling the model\n",
    "model_5_layers.compile(optimizer='adam', loss='categorical_crossentropy', metrics=['accuracy'])\n",
    "\n",
    "#training model\n",
    "history_5_layers = model_5_layers.fit(X_train, Y_train, batch_size=batch_size, epochs=nb_epoch, verbose=1, validation_data=(X_test, Y_test))\n",
    "\n",
    "score = model_5_layers.evaluate(X_test, Y_test)\n",
    "print('Test loss:', score[0])\n",
    "print('Test accuracy:', score[1])\n",
    "\n",
    "\n"
   ]
  },
  {
   "cell_type": "code",
   "execution_count": 0,
   "metadata": {
    "colab": {
     "base_uri": "https://localhost:8080/",
     "height": 361
    },
    "colab_type": "code",
    "id": "lGzuj93FXG4s",
    "outputId": "57363ffc-07e5-4049-d625-2bb86cac25ae"
   },
   "outputs": [
    {
     "data": {
      "image/png": "[encoded data removed]",
      "text/plain": [
       "<Figure size 576x396 with 1 Axes>"
      ]
     },
     "metadata": {
      "tags": []
     },
     "output_type": "display_data"
    }
   ],
   "source": [
    "fig,ax = plt.subplots(1,1)\n",
    "ax.set_xlabel('epoch') ; ax.set_ylabel('Categorical Crossentropy Loss')\n",
    "\n",
    "x = list(range(1,nb_epoch+1))\n",
    "\n",
    "\n",
    "vy = history_2_layers.history['val_loss']  # validation loss\n",
    "ty = history_2_layers.history['loss']      # train loss\n",
    "plt_dynamic(x, vy, ty,ax)"
   ]
  },
  {
   "cell_type": "markdown",
   "metadata": {
    "colab_type": "text",
    "id": "95jvEIml2tTp"
   },
   "source": [
    "OBSERVATION: Deep MLPs are more prone to overfitting hence we can see that validation loss is more compare to train loss as no. of epoch is increasing"
   ]
  },
  {
   "cell_type": "code",
   "execution_count": 0,
   "metadata": {
    "colab": {},
    "colab_type": "code",
    "collapsed": true,
    "id": "ckW0uX5mp-J8"
   },
   "outputs": [],
   "source": [
    "from prettytable import PrettyTable"
   ]
  },
  {
   "cell_type": "code",
   "execution_count": 0,
   "metadata": {
    "colab": {},
    "colab_type": "code",
    "collapsed": true,
    "id": "7x54zQigrgct"
   },
   "outputs": [],
   "source": [
    "x = PrettyTable()"
   ]
  },
  {
   "cell_type": "code",
   "execution_count": 0,
   "metadata": {
    "colab": {},
    "colab_type": "code",
    "collapsed": true,
    "id": "9pD-j6bvsGeg"
   },
   "outputs": [],
   "source": [
    "x.field_names = [\"No. of layers\", \"Test Loss\", \"Test Accuracy\"]\n",
    "x.add_row(['2' , '0.06521','9811'])\n",
    "x.add_row(['3' , '0.06082','0.9821'])\n",
    "x.add_row(['5' , '0.0759','0.9822'])"
   ]
  },
  {
   "cell_type": "code",
   "execution_count": 0,
   "metadata": {
    "colab": {
     "base_uri": "https://localhost:8080/",
     "height": 145
    },
    "colab_type": "code",
    "id": "-6nyx_l92jJf",
    "outputId": "06a3a8c9-8552-4079-fd0c-e5e272e80ee2"
   },
   "outputs": [
    {
     "name": "stdout",
     "output_type": "stream",
     "text": [
      "+---------------+-----------+---------------+\n",
      "| No. of layers | Test Loss | Test Accuracy |\n",
      "+---------------+-----------+---------------+\n",
      "|       2       |  0.06521  |      9811     |\n",
      "|       3       |  0.06082  |     0.9821    |\n",
      "|       5       |   0.0759  |     0.9822    |\n",
      "+---------------+-----------+---------------+\n"
     ]
    }
   ],
   "source": [
    "print(x)"
   ]
  },
  {
   "cell_type": "markdown",
   "metadata": {
    "colab_type": "text",
    "id": "TpgOmTpI01WH"
   },
   "source": [
    "**Conclusion**\n",
    "\n",
    "\n",
    "1.   Increasing number of hidden layers does not always improve the performance of model\n",
    "2.   Deep MLP are prone to overfitting while shallow MLP are prone to underfitting\n",
    "3.   Overfitting can be avoid using dropout\n",
    "\n"
   ]
  },
  {
   "cell_type": "code",
   "execution_count": 0,
   "metadata": {
    "colab": {},
    "colab_type": "code",
    "collapsed": true,
    "id": "DTclloOax9LB"
   },
   "outputs": [],
   "source": []
  }
 ],
 "metadata": {
  "colab": {
   "collapsed_sections": [],
   "name": "MLP on MNIST",
   "provenance": [],
   "version": "0.3.2"
  },
  "kernelspec": {
   "display_name": "Python 3",
   "language": "python",
   "name": "python3"
  },
  "language_info": {
   "codemirror_mode": {
    "name": "ipython",
    "version": 3
   },
   "file_extension": ".py",
   "mimetype": "text/x-python",
   "name": "python",
   "nbconvert_exporter": "python",
   "pygments_lexer": "ipython3",
   "version": "3.6.3"
  }
 },
 "nbformat": 4,
 "nbformat_minor": 1
}
