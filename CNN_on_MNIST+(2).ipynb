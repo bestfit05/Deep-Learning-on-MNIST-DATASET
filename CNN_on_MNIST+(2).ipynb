{
 "cells": [
  {
   "cell_type": "markdown",
   "metadata": {
    "colab_type": "text",
    "id": "5laZxt1-oKiU"
   },
   "source": [
    "##                                                           **ASSIGNMENT 13**"
   ]
  },
  {
   "cell_type": "markdown",
   "metadata": {
    "colab_type": "text",
    "id": "_LmXJDBFn12g"
   },
   "source": [
    "### OBJECTIVE:  **To try Various CNN for MNIST Dataset**"
   ]
  },
  {
   "cell_type": "code",
   "execution_count": 0,
   "metadata": {
    "colab": {},
    "colab_type": "code",
    "collapsed": true,
    "id": "9BvF4QO82wJ5"
   },
   "outputs": [],
   "source": [
    "import keras\n",
    "from keras.datasets import mnist\n",
    "from keras.models import Sequential\n",
    "from keras.layers import Dense, Dropout, Flatten\n",
    "from keras.layers import Conv2D, MaxPooling2D\n",
    "from keras import backend as K"
   ]
  },
  {
   "cell_type": "code",
   "execution_count": 0,
   "metadata": {
    "colab": {},
    "colab_type": "code",
    "collapsed": true,
    "id": "dEWgDDEp3wAC"
   },
   "outputs": [],
   "source": [
    "# setting parameters\n",
    "batch_size = 128\n",
    "num_classes = 10 # 10 classes from 0-9\n",
    "epochs = 12\n",
    "\n",
    "# input image dimensions\n",
    "img_rows , img_cols = 28,28\n",
    "\n",
    "# loading train and test data \n",
    "(x_train, y_train), (x_test, y_test) = mnist.load_data()"
   ]
  },
  {
   "cell_type": "code",
   "execution_count": 0,
   "metadata": {
    "colab": {
     "base_uri": "https://localhost:8080/",
     "height": 35
    },
    "colab_type": "code",
    "id": "Zjx8D6N066tW",
    "outputId": "76a0feab-917d-42a8-f590-629dd39bcb21"
   },
   "outputs": [
    {
     "data": {
      "text/plain": [
       "'channels_last'"
      ]
     },
     "execution_count": 10,
     "metadata": {
      "tags": []
     },
     "output_type": "execute_result"
    }
   ],
   "source": [
    "K.image_data_format()"
   ]
  },
  {
   "cell_type": "code",
   "execution_count": 0,
   "metadata": {
    "colab": {},
    "colab_type": "code",
    "collapsed": true,
    "id": "hIArzDqe9Lhh"
   },
   "outputs": [],
   "source": [
    "x_train = x_train.reshape(x_train.shape[0], img_rows, img_cols, 1)\n",
    "x_test = x_test.reshape(x_test.shape[0], img_rows, img_cols, 1)\n",
    "input_shape = (img_rows, img_cols, 1)\n",
    "\n",
    "\n",
    "x_train.astype('float32')\n",
    "x_test.astype('float32')\n",
    "\n",
    "# normalization \n",
    "\n",
    "x_train = x_train/255\n",
    "x_test = x_test/255"
   ]
  },
  {
   "cell_type": "code",
   "execution_count": 0,
   "metadata": {
    "colab": {
     "base_uri": "https://localhost:8080/",
     "height": 54
    },
    "colab_type": "code",
    "id": "4JXPLvmKAExk",
    "outputId": "a4ce7972-5533-4be4-aa7e-60a4b425b346"
   },
   "outputs": [
    {
     "name": "stdout",
     "output_type": "stream",
     "text": [
      "train sample (60000, 28, 28, 1)\n",
      "test sampel (10000, 28, 28, 1)\n"
     ]
    }
   ],
   "source": [
    "print('train sample',x_train.shape)\n",
    "print('test sampel' , x_test.shape)"
   ]
  },
  {
   "cell_type": "code",
   "execution_count": 0,
   "metadata": {
    "colab": {},
    "colab_type": "code",
    "collapsed": true,
    "id": "E5mI11OAK1vr"
   },
   "outputs": [],
   "source": [
    "# convert class vectors to binary class matrices\n",
    "y_train = keras.utils.to_categorical(y_train, num_classes)\n",
    "y_test = keras.utils.to_categorical(y_test, num_classes)"
   ]
  },
  {
   "cell_type": "code",
   "execution_count": 0,
   "metadata": {
    "colab": {},
    "colab_type": "code",
    "collapsed": true,
    "id": "QcMWnXV-7u2B"
   },
   "outputs": [],
   "source": [
    "import matplotlib.pyplot as plt\n",
    "import numpy as np\n",
    "import time\n",
    "# https://gist.github.com/greydanus/f6eee59eaf1d90fcb3b534a25362cea4\n",
    "# https://stackoverflow.com/a/14434334\n",
    "# this function is used to update the plots for each epoch and error\n",
    "def plt_dynamic(x, vy, ty, ax, colors=['b']):\n",
    "    ax.plot(x, vy, 'b', label=\"Validation Loss\")\n",
    "    ax.plot(x, ty, 'r', label=\"Train Loss\")\n",
    "    plt.legend()\n",
    "    plt.grid()\n",
    "    fig.canvas.draw()"
   ]
  },
  {
   "cell_type": "markdown",
   "metadata": {
    "colab_type": "text",
    "id": "8FG0VKJJBqBN"
   },
   "source": [
    "**3 layers CNN**"
   ]
  },
  {
   "cell_type": "code",
   "execution_count": 0,
   "metadata": {
    "colab": {
     "base_uri": "https://localhost:8080/",
     "height": 508
    },
    "colab_type": "code",
    "id": "4Pec_wAoB_vm",
    "outputId": "d049e2b3-4c61-421d-c53b-1f4e4e3beb23"
   },
   "outputs": [
    {
     "name": "stdout",
     "output_type": "stream",
     "text": [
      "Train on 60000 samples, validate on 10000 samples\n",
      "Epoch 1/12\n",
      "60000/60000 [==============================] - 70s 1ms/step - loss: 0.5282 - acc: 0.8313 - val_loss: 0.1020 - val_acc: 0.9678\n",
      "Epoch 2/12\n",
      "60000/60000 [==============================] - 69s 1ms/step - loss: 0.1681 - acc: 0.9495 - val_loss: 0.0732 - val_acc: 0.9773\n",
      "Epoch 3/12\n",
      "60000/60000 [==============================] - 70s 1ms/step - loss: 0.1260 - acc: 0.9623 - val_loss: 0.0627 - val_acc: 0.9804\n",
      "Epoch 4/12\n",
      "60000/60000 [==============================] - 71s 1ms/step - loss: 0.1052 - acc: 0.9694 - val_loss: 0.0530 - val_acc: 0.9843\n",
      "Epoch 5/12\n",
      "60000/60000 [==============================] - 70s 1ms/step - loss: 0.0904 - acc: 0.9730 - val_loss: 0.0498 - val_acc: 0.9851\n",
      "Epoch 6/12\n",
      "60000/60000 [==============================] - 69s 1ms/step - loss: 0.0810 - acc: 0.9760 - val_loss: 0.0443 - val_acc: 0.9861\n",
      "Epoch 7/12\n",
      "60000/60000 [==============================] - 70s 1ms/step - loss: 0.0775 - acc: 0.9777 - val_loss: 0.0404 - val_acc: 0.9879\n",
      "Epoch 8/12\n",
      "60000/60000 [==============================] - 70s 1ms/step - loss: 0.0699 - acc: 0.9795 - val_loss: 0.0409 - val_acc: 0.9881\n",
      "Epoch 9/12\n",
      "60000/60000 [==============================] - 70s 1ms/step - loss: 0.0667 - acc: 0.9800 - val_loss: 0.0412 - val_acc: 0.9880\n",
      "Epoch 10/12\n",
      "60000/60000 [==============================] - 70s 1ms/step - loss: 0.0611 - acc: 0.9816 - val_loss: 0.0423 - val_acc: 0.9884\n",
      "Epoch 11/12\n",
      "60000/60000 [==============================] - 70s 1ms/step - loss: 0.0607 - acc: 0.9815 - val_loss: 0.0351 - val_acc: 0.9906\n",
      "Epoch 12/12\n",
      "60000/60000 [==============================] - 70s 1ms/step - loss: 0.0546 - acc: 0.9838 - val_loss: 0.0344 - val_acc: 0.9898\n",
      "Test loss: 0.03440281359523069\n",
      "Test accuracy: 0.9898\n"
     ]
    }
   ],
   "source": [
    "model_3_layers = Sequential()\n",
    "\n",
    "model_3_layers.add(Conv2D(32, kernel_size=(3, 3),activation='relu',input_shape=input_shape))\n",
    "model_3_layers.add(MaxPooling2D(pool_size=(2, 2)))\n",
    "model_3_layers.add(Dropout(0.25))\n",
    "\n",
    "model_3_layers.add(Conv2D(64, (3, 3), activation='relu'))\n",
    "model_3_layers.add(MaxPooling2D(pool_size=(2, 2)))\n",
    "model_3_layers.add(Dropout(0.25))\n",
    "\n",
    "\n",
    "model_3_layers.add(Conv2D(128, (3, 3), activation='relu'))\n",
    "model_3_layers.add(MaxPooling2D(pool_size=(2, 2)))\n",
    "model_3_layers.add(Dropout(0.25))\n",
    "\n",
    "model_3_layers.add(Flatten())\n",
    "\n",
    "model_3_layers.add(Dense(256, activation='relu'))\n",
    "\n",
    "model_3_layers.add(Dropout(0.5))\n",
    "model_3_layers.add(Dense(num_classes, activation='softmax'))\n",
    "\n",
    "model_3_layers.compile(loss=keras.losses.categorical_crossentropy,\n",
    "              optimizer='adam',\n",
    "              metrics=['accuracy'])\n",
    "\n",
    "history = model_3_layers.fit(x_train, y_train,\n",
    "          batch_size=batch_size,\n",
    "          epochs=epochs,\n",
    "          verbose=1,\n",
    "          validation_data=(x_test, y_test))\n",
    "\n",
    "score = model_3_layers.evaluate(x_test, y_test, verbose=0)\n",
    "print('Test loss:', score[0])\n",
    "print('Test accuracy:', score[1])\n",
    "\n"
   ]
  },
  {
   "cell_type": "code",
   "execution_count": 0,
   "metadata": {
    "colab": {
     "base_uri": "https://localhost:8080/",
     "height": 361
    },
    "colab_type": "code",
    "id": "2RiJe5IYP9uv",
    "outputId": "f8f96080-4863-4025-b7b1-d116301843cb"
   },
   "outputs": [
    {
     "data": {
      "image/png": "[encoded data removed]",
      "text/plain": [
       "<Figure size 576x396 with 1 Axes>"
      ]
     },
     "metadata": {
      "tags": []
     },
     "output_type": "display_data"
    }
   ],
   "source": [
    "fig,ax = plt.subplots(1,1)\n",
    "ax.set_xlabel('epoch') ; ax.set_ylabel('Categorical Crossentropy Loss')\n",
    "\n",
    "# list of epoch numbers\n",
    "x = list(range(1,epochs+1))\n",
    "\n",
    "\n",
    "vy = history.history['val_loss']\n",
    "ty = history.history['loss']\n",
    "plt_dynamic(x, vy, ty, ax)"
   ]
  },
  {
   "cell_type": "markdown",
   "metadata": {
    "colab_type": "text",
    "id": "7i4_JOlGN42D"
   },
   "source": [
    "**5 layers CNN**"
   ]
  },
  {
   "cell_type": "code",
   "execution_count": 0,
   "metadata": {
    "colab": {
     "base_uri": "https://localhost:8080/",
     "height": 508
    },
    "colab_type": "code",
    "id": "QKVlsr0NN9kj",
    "outputId": "9ae3d810-4118-40a9-a68a-3832fe7ad333"
   },
   "outputs": [
    {
     "name": "stdout",
     "output_type": "stream",
     "text": [
      "Train on 60000 samples, validate on 10000 samples\n",
      "Epoch 1/12\n",
      "60000/60000 [==============================] - 199s 3ms/step - loss: 0.3567 - acc: 0.8837 - val_loss: 0.0563 - val_acc: 0.9817\n",
      "Epoch 2/12\n",
      "60000/60000 [==============================] - 197s 3ms/step - loss: 0.1010 - acc: 0.9696 - val_loss: 0.0353 - val_acc: 0.9880\n",
      "Epoch 3/12\n",
      "60000/60000 [==============================] - 198s 3ms/step - loss: 0.0698 - acc: 0.9787 - val_loss: 0.0348 - val_acc: 0.9885\n",
      "Epoch 4/12\n",
      "60000/60000 [==============================] - 197s 3ms/step - loss: 0.0585 - acc: 0.9826 - val_loss: 0.0250 - val_acc: 0.9917\n",
      "Epoch 5/12\n",
      "60000/60000 [==============================] - 196s 3ms/step - loss: 0.0509 - acc: 0.9845 - val_loss: 0.0260 - val_acc: 0.9906\n",
      "Epoch 6/12\n",
      "60000/60000 [==============================] - 197s 3ms/step - loss: 0.0448 - acc: 0.9870 - val_loss: 0.0224 - val_acc: 0.9923\n",
      "Epoch 7/12\n",
      "60000/60000 [==============================] - 196s 3ms/step - loss: 0.0414 - acc: 0.9876 - val_loss: 0.0195 - val_acc: 0.9934\n",
      "Epoch 8/12\n",
      "60000/60000 [==============================] - 196s 3ms/step - loss: 0.0382 - acc: 0.9880 - val_loss: 0.0198 - val_acc: 0.9926\n",
      "Epoch 9/12\n",
      "60000/60000 [==============================] - 197s 3ms/step - loss: 0.0368 - acc: 0.9892 - val_loss: 0.0183 - val_acc: 0.9942\n",
      "Epoch 10/12\n",
      "60000/60000 [==============================] - 196s 3ms/step - loss: 0.0338 - acc: 0.9899 - val_loss: 0.0175 - val_acc: 0.9939\n",
      "Epoch 11/12\n",
      "60000/60000 [==============================] - 197s 3ms/step - loss: 0.0304 - acc: 0.9911 - val_loss: 0.0259 - val_acc: 0.9911\n",
      "Epoch 12/12\n",
      "60000/60000 [==============================] - 196s 3ms/step - loss: 0.0302 - acc: 0.9911 - val_loss: 0.0187 - val_acc: 0.9942\n",
      "Test loss: 0.01869921343671249\n",
      "Test accuracy: 0.9942\n"
     ]
    }
   ],
   "source": [
    "from keras.initializers import he_normal\n",
    "model_5_layers = Sequential()\n",
    "\n",
    "model_5_layers.add(Conv2D(32, kernel_size=(5, 5),activation='relu',input_shape=input_shape))\n",
    "model_5_layers.add(Conv2D(32, (5, 5), activation='relu'))\n",
    "model_5_layers.add(MaxPooling2D(pool_size=(2, 2)))\n",
    "model_5_layers.add(Dropout(0.25))\n",
    "\n",
    "model_5_layers.add(Conv2D(32, (3, 3), activation='relu'))\n",
    "model_5_layers.add(Conv2D(32, (3, 3), activation='relu'))\n",
    "model_5_layers.add(MaxPooling2D(pool_size=(2, 2)))\n",
    "model_5_layers.add(Dropout(0.25))\n",
    "\n",
    "model_5_layers.add(Flatten())\n",
    "\n",
    "model_5_layers.add(Dense(256, activation='relu' , kernel_initializer=he_normal(seed=None)))\n",
    "model_5_layers.add(Dropout(0.5))\n",
    "model_5_layers.add(Dense(num_classes, activation='softmax'))\n",
    "\n",
    "model_5_layers.compile(loss=keras.losses.categorical_crossentropy,\n",
    "              optimizer='adam',\n",
    "              metrics=['accuracy'])\n",
    "\n",
    "history_5 = model_5_layers.fit(x_train, y_train,\n",
    "          batch_size=batch_size,\n",
    "          epochs=epochs,\n",
    "          verbose=1,\n",
    "          validation_data=(x_test, y_test))\n",
    "\n",
    "score = model_5_layers.evaluate(x_test, y_test, verbose=0)\n",
    "print('Test loss:', score[0])\n",
    "print('Test accuracy:', score[1])\n",
    "\n"
   ]
  },
  {
   "cell_type": "code",
   "execution_count": 0,
   "metadata": {
    "colab": {
     "base_uri": "https://localhost:8080/",
     "height": 361
    },
    "colab_type": "code",
    "id": "i7Kdu5obQQep",
    "outputId": "da322b30-c99d-4eef-adb5-536232f61628"
   },
   "outputs": [
    {
     "data": {
      "image/png": "[encoded data removed]",
      "text/plain": [
       "<Figure size 576x396 with 1 Axes>"
      ]
     },
     "metadata": {
      "tags": []
     },
     "output_type": "display_data"
    }
   ],
   "source": [
    "fig,ax = plt.subplots(1,1)\n",
    "ax.set_xlabel('epoch') ; ax.set_ylabel('Categorical Crossentropy Loss')\n",
    "\n",
    "# list of epoch numbers\n",
    "x = list(range(1,epochs+1))\n",
    "\n",
    "\n",
    "vy = history_5.history['val_loss']\n",
    "ty = history_5.history['loss']\n",
    "plt_dynamic(x, vy, ty, ax)"
   ]
  },
  {
   "cell_type": "markdown",
   "metadata": {
    "colab_type": "text",
    "id": "bPhVMDXBQST8"
   },
   "source": [
    "**7 layers CNN**"
   ]
  },
  {
   "cell_type": "code",
   "execution_count": 0,
   "metadata": {
    "colab": {
     "base_uri": "https://localhost:8080/",
     "height": 508
    },
    "colab_type": "code",
    "id": "MLz968lSQVyD",
    "outputId": "0e0f1176-ce6c-4ece-f5de-e1dc01516a2f"
   },
   "outputs": [
    {
     "name": "stdout",
     "output_type": "stream",
     "text": [
      "Train on 60000 samples, validate on 10000 samples\n",
      "Epoch 1/12\n",
      "60000/60000 [==============================] - 430s 7ms/step - loss: 0.1441 - acc: 0.9551 - val_loss: 0.0480 - val_acc: 0.9849\n",
      "Epoch 2/12\n",
      "60000/60000 [==============================] - 429s 7ms/step - loss: 0.0513 - acc: 0.9847 - val_loss: 0.0354 - val_acc: 0.9880\n",
      "Epoch 3/12\n",
      "60000/60000 [==============================] - 426s 7ms/step - loss: 0.0378 - acc: 0.9882 - val_loss: 0.0309 - val_acc: 0.9901\n",
      "Epoch 4/12\n",
      "60000/60000 [==============================] - 426s 7ms/step - loss: 0.0315 - acc: 0.9901 - val_loss: 0.0355 - val_acc: 0.9883\n",
      "Epoch 5/12\n",
      "60000/60000 [==============================] - 426s 7ms/step - loss: 0.0240 - acc: 0.9922 - val_loss: 0.0281 - val_acc: 0.9911\n",
      "Epoch 6/12\n",
      "60000/60000 [==============================] - 423s 7ms/step - loss: 0.0219 - acc: 0.9933 - val_loss: 0.0404 - val_acc: 0.9860\n",
      "Epoch 7/12\n",
      "60000/60000 [==============================] - 421s 7ms/step - loss: 0.0194 - acc: 0.9939 - val_loss: 0.0257 - val_acc: 0.9917\n",
      "Epoch 8/12\n",
      "60000/60000 [==============================] - 424s 7ms/step - loss: 0.0182 - acc: 0.9941 - val_loss: 0.0266 - val_acc: 0.9909\n",
      "Epoch 9/12\n",
      "60000/60000 [==============================] - 424s 7ms/step - loss: 0.0154 - acc: 0.9948 - val_loss: 0.0259 - val_acc: 0.9916\n",
      "Epoch 10/12\n",
      "60000/60000 [==============================] - 428s 7ms/step - loss: 0.0127 - acc: 0.9959 - val_loss: 0.0258 - val_acc: 0.9916\n",
      "Epoch 11/12\n",
      "60000/60000 [==============================] - 427s 7ms/step - loss: 0.0130 - acc: 0.9958 - val_loss: 0.0288 - val_acc: 0.9907\n",
      "Epoch 12/12\n",
      "60000/60000 [==============================] - 423s 7ms/step - loss: 0.0109 - acc: 0.9966 - val_loss: 0.0279 - val_acc: 0.9920\n",
      "Test loss: 0.02787575599098709\n",
      "Test accuracy: 0.992\n"
     ]
    }
   ],
   "source": [
    "from keras.layers.normalization import BatchNormalization\n",
    "\n",
    "model_7_layers = Sequential()\n",
    "\n",
    "model_7_layers.add(Conv2D(32, kernel_size=(2, 2),activation='relu',input_shape=input_shape))\n",
    "model_7_layers.add(Conv2D(32, kernel_size=(2, 2),activation='relu',input_shape=input_shape))\n",
    "model_7_layers.add(Conv2D(32, kernel_size=(2, 2),activation='relu',input_shape=input_shape))\n",
    "model_7_layers.add(Dropout(0.3))\n",
    "\n",
    "model_7_layers.add(Conv2D(64, (2, 2), activation='relu'))\n",
    "model_7_layers.add(Conv2D(64, (2, 2), activation='relu'))\n",
    "model_7_layers.add(Conv2D(64, (2, 2), activation='relu'))\n",
    "model_7_layers.add(MaxPooling2D(pool_size=(2, 2)))\n",
    "model_7_layers.add(Dropout(0.3))\n",
    "\n",
    "\n",
    "\n",
    "\n",
    "model_7_layers.add(Flatten())\n",
    "\n",
    "model_7_layers.add(Dense(256, activation='relu' , kernel_initializer=he_normal(seed=None)))\n",
    "model_7_layers.add(BatchNormalization())\n",
    "model_7_layers.add(Dropout(0.25))\n",
    "\n",
    "model_7_layers.add(Dense(num_classes, activation='softmax'))\n",
    "\n",
    "model_7_layers.compile(loss=keras.losses.categorical_crossentropy,\n",
    "              optimizer='adam',\n",
    "              metrics=['accuracy'])\n",
    "\n",
    "history_7 = model_7_layers.fit(x_train, y_train,\n",
    "          batch_size=batch_size,\n",
    "          epochs=epochs,\n",
    "          verbose=1,\n",
    "          validation_data=(x_test, y_test))\n",
    "\n",
    "score = model_7_layers.evaluate(x_test, y_test, verbose=0)\n",
    "print('Test loss:', score[0])\n",
    "print('Test accuracy:', score[1])\n"
   ]
  },
  {
   "cell_type": "code",
   "execution_count": 0,
   "metadata": {
    "colab": {
     "base_uri": "https://localhost:8080/",
     "height": 361
    },
    "colab_type": "code",
    "id": "iDdGqudkeCrC",
    "outputId": "77b99e51-ec52-4145-a33e-6f9b0ced10d4"
   },
   "outputs": [
    {
     "data": {
      "image/png": "[encoded data removed]",
      "text/plain": [
       "<Figure size 576x396 with 1 Axes>"
      ]
     },
     "metadata": {
      "tags": []
     },
     "output_type": "display_data"
    }
   ],
   "source": [
    "fig,ax = plt.subplots(1,1)\n",
    "ax.set_xlabel('epoch') ; ax.set_ylabel('Categorical Crossentropy Loss')\n",
    "\n",
    "# list of epoch numbers\n",
    "x = list(range(1,epochs+1))\n",
    "\n",
    "\n",
    "vy = history_7.history['val_loss']\n",
    "ty = history_7.history['loss']\n",
    "plt_dynamic(x, vy, ty, ax)"
   ]
  },
  {
   "cell_type": "code",
   "execution_count": 0,
   "metadata": {
    "colab": {
     "base_uri": "https://localhost:8080/",
     "height": 145
    },
    "colab_type": "code",
    "id": "TNY7U8GINrYq",
    "outputId": "b3e5803b-436f-4411-e2c3-41ad962e4842"
   },
   "outputs": [
    {
     "name": "stdout",
     "output_type": "stream",
     "text": [
      "+---------------+-----------+---------------+\n",
      "| No. of layers | Test Loss | Test Accuracy |\n",
      "+---------------+-----------+---------------+\n",
      "|       2       |   0.034   |     0.989     |\n",
      "|       3       |   0.018   |     0.994     |\n",
      "|       5       |   0.027   |     0.992     |\n",
      "+---------------+-----------+---------------+\n"
     ]
    }
   ],
   "source": [
    "from prettytable import PrettyTable\n",
    "x = PrettyTable()\n",
    "x.field_names = [\"No. of layers\", \"Test Loss\", \"Test Accuracy\"]\n",
    "x.add_row(['2' , '0.034','0.989'])\n",
    "x.add_row(['3' , '0.018','0.994'])\n",
    "x.add_row(['5' , '0.027','0.992'])\n",
    "print(x)"
   ]
  },
  {
   "cell_type": "markdown",
   "metadata": {
    "colab_type": "text",
    "id": "QBCEhMfS4XQo"
   },
   "source": [
    "**CONCLUSION**\n",
    "\n",
    "\n",
    "1.  Loss & Accuracy  performance of CNN model on test data is better than MLP model\n",
    "2.  As the number of epocs increases loss decreases.\n",
    "\n"
   ]
  },
  {
   "cell_type": "code",
   "execution_count": 0,
   "metadata": {
    "colab": {},
    "colab_type": "code",
    "collapsed": true,
    "id": "LvQGjDHj4Stn"
   },
   "outputs": [],
   "source": []
  }
 ],
 "metadata": {
  "colab": {
   "collapsed_sections": [],
   "name": "CNN on MNIST",
   "provenance": [],
   "version": "0.3.2"
  },
  "kernelspec": {
   "display_name": "Python 3",
   "language": "python",
   "name": "python3"
  },
  "language_info": {
   "codemirror_mode": {
    "name": "ipython",
    "version": 3
   },
   "file_extension": ".py",
   "mimetype": "text/x-python",
   "name": "python",
   "nbconvert_exporter": "python",
   "pygments_lexer": "ipython3",
   "version": "3.6.3"
  }
 },
 "nbformat": 4,
 "nbformat_minor": 1
}
